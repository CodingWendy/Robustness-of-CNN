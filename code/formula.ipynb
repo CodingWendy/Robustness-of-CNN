{
 "cells": [
  {
   "cell_type": "code",
   "execution_count": 3,
   "metadata": {},
   "outputs": [
    {
     "name": "stdout",
     "output_type": "stream",
     "text": [
      "600\n",
      "783\n",
      "671\n",
      "547\n"
     ]
    }
   ],
   "source": [
    "import numpy as np\n",
    "import math\n",
    "\n",
    "#beta = 0.11     #expected radius\n",
    "epsilon = 0.05 #error bound, 95%accuarcy\n",
    "\n",
    "#right = 1-2*np.e**(-2*epsilon**2*N)\n",
    "#print(-2*epsilon**2)\n",
    "a = -2*epsilon**2\n",
    "\n",
    "#calculate N\n",
    "N = math.log(0.05)/a   #2*np.e**(-2*epsilon**2*N)= 0.1\n",
    "print(math.ceil(N))\n",
    "\n",
    "#96%\n",
    "N3 = math.log(0.02)/a   #2*np.e**(-2*epsilon**2*N)= 0.04\n",
    "print(math.ceil(N3))\n",
    "\n",
    "#93%\n",
    "N1 = math.log(0.035)/a   #2*np.e**(-2*epsilon**2*N)= 0.07\n",
    "print(math.ceil(N1))\n",
    "\n",
    "#87%\n",
    "N2 = math.log(0.065)/a   #2*np.e**(-2*epsilon**2*N)= 0.13\n",
    "print(math.ceil(N2))\n",
    "\n"
   ]
  },
  {
   "cell_type": "code",
   "execution_count": 20,
   "metadata": {},
   "outputs": [
    {
     "name": "stdout",
     "output_type": "stream",
     "text": [
      "-5.120000000000001\n",
      "0.011952045790011879\n"
     ]
    }
   ],
   "source": [
    "N = 1024\n",
    "print(-2*epsilon**2*N)\n",
    "a = 2*(math.e**(-2*epsilon**2*N))\n",
    "print(a)"
   ]
  }
 ],
 "metadata": {
  "kernelspec": {
   "display_name": "Python 3",
   "language": "python",
   "name": "python3"
  },
  "language_info": {
   "codemirror_mode": {
    "name": "ipython",
    "version": 3
   },
   "file_extension": ".py",
   "mimetype": "text/x-python",
   "name": "python",
   "nbconvert_exporter": "python",
   "pygments_lexer": "ipython3",
   "version": "3.8.5"
  }
 },
 "nbformat": 4,
 "nbformat_minor": 4
}
