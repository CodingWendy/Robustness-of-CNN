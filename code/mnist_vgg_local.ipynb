{
 "cells": [
  {
   "cell_type": "code",
   "execution_count": 1,
   "metadata": {},
   "outputs": [],
   "source": [
    "from keras.datasets import mnist \n",
    "import matplotlib.pyplot as plt \n",
    "from keras.optimizers import Adam \n",
    "from keras import utils \n",
    "import numpy as np \n",
    "import cv2\n",
    "import matplotlib.pyplot as plt \n",
    "from tensorflow.keras.models import load_model "
   ]
  },
  {
   "cell_type": "code",
   "execution_count": 2,
   "metadata": {},
   "outputs": [],
   "source": [
    "dataset = mnist\n",
    "(x_train2, y_train2), (x_test2, y_test2) = dataset.load_data() #translate the data to image \n",
    "\n",
    "x_train2=[cv2.cvtColor(cv2.resize(i,(48,48)),cv2.COLOR_GRAY2BGR)for i in x_train2]  #x_train shape is (10000,48,48,3)\n",
    "x_train2=np.concatenate([arr[np.newaxis]for arr in x_train2]).astype('float32')\n",
    "x_train2=x_train2/255\n",
    "x_test2=[cv2.cvtColor(cv2.resize(i,(48,48)),cv2.COLOR_GRAY2BGR)for i in x_test2]\n",
    "x_test2=np.concatenate([arr[np.newaxis]for arr in x_test2]).astype('float32')\n",
    "x_test2=x_test2/255\n",
    "\n",
    "vgg = load_model('Model/vgg_mnist.h5')#load lenet5 model trained with mnist dataset \n",
    "vgg.compile(optimizer=Adam(),loss='sparse_categorical_crossentropy',metrics=['accuracy']) \n",
    "\n"
   ]
  },
  {
   "cell_type": "code",
   "execution_count": 24,
   "metadata": {},
   "outputs": [
    {
     "name": "stdout",
     "output_type": "stream",
     "text": [
      "Sampled 8601 images, 8001 outside beta, 600 inside beta\n",
      "600 images inside beta have the same label, local robustness formula satisfied\n",
      "maximum distance 0.322\n"
     ]
    },
    {
     "data": {
      "text/plain": [
       "0.322"
      ]
     },
     "execution_count": 24,
     "metadata": {},
     "output_type": "execute_result"
    }
   ],
   "source": [
    "beta = 0.322\n",
    "N = 600\n",
    "sample(x_test2[1],y_test2[1],vgg,N,beta)"
   ]
  },
  {
   "cell_type": "code",
   "execution_count": null,
   "metadata": {},
   "outputs": [],
   "source": [
    "def sample(x_test,y_test,model,N, beta):\n",
    "    \n",
    "    count = 0\n",
    "    count2 = 0\n",
    "    neighbour_list=[]\n",
    "    mean = np.zeros(3)  \n",
    "    cov = np.eye(3)\n",
    "    label = y_test\n",
    "    \n",
    "    while True:\n",
    "        count2+=1\n",
    "        p = np.random.multivariate_normal(mean, cov,(48,48)) #sample formula\n",
    "        \n",
    "        neighbour = p + x_test*255\n",
    "        neighbour=neighbour.reshape(1,48,48,3)\n",
    "        neighbour /= 255\n",
    "        distance=np.linalg.norm(p) \n",
    "        distance /= 255\n",
    "        #print(distance)\n",
    "        if (distance < beta or distance == beta):\n",
    "            \n",
    "            output = model.predict(neighbour,batch_size=128)[0]\n",
    "            proba = softmax(output)\n",
    "            pred = np.argmax(proba)\n",
    "            if(pred == label): \n",
    "                count+=1  #correct prediction\n",
    "            else:  #if there are some iamges inside beta cannot have the same label, beta will be decreased\n",
    "                beta = beta-0.0001\n",
    "                print(\"Beta is reduced by 0.0001, the new beta is\",beta) \n",
    "                \n",
    "        if(count==N):  \n",
    "            #print(\"Sampled %s images, %s outside beta, %s inside beta\" % (count2, count2-count,count))\n",
    "            print(\"%s images inside beta have the same label, local robustness formula satisfied\" %N)\n",
    "            break\n",
    "\n",
    "    \n",
    "    print(\"maximum distance\",beta)            \n",
    "\n",
    "    return beta"
   ]
  },
  {
   "cell_type": "code",
   "execution_count": 4,
   "metadata": {},
   "outputs": [],
   "source": [
    "def softmax(x):\n",
    "    e_x = np.exp(x-np.max(x))\n",
    "    return e_x / e_x.sum()"
   ]
  },
  {
   "cell_type": "code",
   "execution_count": 5,
   "metadata": {},
   "outputs": [
    {
     "name": "stdout",
     "output_type": "stream",
     "text": [
      "Sampled 14875 images, 14204 outside beta, 671 inside beta\n",
      "671 images inside beta have the same label, local robustness formula satisfied\n",
      "maximum distance 0.3213\n"
     ]
    },
    {
     "data": {
      "text/plain": [
       "0.3213"
      ]
     },
     "execution_count": 5,
     "metadata": {},
     "output_type": "execute_result"
    }
   ],
   "source": [
    "beta = 0.3213\n",
    "N = 671\n",
    "sample(x_test2[1],y_test2[1],vgg,N, beta)"
   ]
  },
  {
   "cell_type": "code",
   "execution_count": 13,
   "metadata": {},
   "outputs": [
    {
     "name": "stdout",
     "output_type": "stream",
     "text": [
      "783 images inside beta have the same label, local robustness formula satisfied\n",
      "maximum distance 0.3178\n"
     ]
    },
    {
     "data": {
      "text/plain": [
       "0.3178"
      ]
     },
     "execution_count": 13,
     "metadata": {},
     "output_type": "execute_result"
    }
   ],
   "source": [
    "beta = 0.3178\n",
    "N = 783\n",
    "sample(x_test2[1],y_test2[1],vgg,N, beta)"
   ]
  },
  {
   "cell_type": "code",
   "execution_count": null,
   "metadata": {},
   "outputs": [],
   "source": []
  }
 ],
 "metadata": {
  "kernelspec": {
   "display_name": "Python 3",
   "language": "python",
   "name": "python3"
  },
  "language_info": {
   "codemirror_mode": {
    "name": "ipython",
    "version": 3
   },
   "file_extension": ".py",
   "mimetype": "text/x-python",
   "name": "python",
   "nbconvert_exporter": "python",
   "pygments_lexer": "ipython3",
   "version": "3.8.5"
  }
 },
 "nbformat": 4,
 "nbformat_minor": 4
}
