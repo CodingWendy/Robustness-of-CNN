{
 "cells": [
  {
   "cell_type": "code",
   "execution_count": 1,
   "metadata": {},
   "outputs": [],
   "source": [
    "from tensorflow.keras.applications.vgg16 import VGG16\n",
    "from tensorflow.keras.models import Model\n",
    "import numpy as np\n",
    "from keras.datasets import mnist\n",
    "from keras import utils\n",
    "from keras.optimizers import SGD\n",
    "import cv2\n",
    "from keras.layers.core import Activation, Flatten, Dense,Dropout"
   ]
  },
  {
   "cell_type": "code",
   "execution_count": 2,
   "metadata": {},
   "outputs": [],
   "source": [
    "def VGG():\n",
    "    model_vgg=VGG16(include_top=False,weights=\"imagenet\",input_shape=(48,48,3))\n",
    "    for layer in model_vgg.layers:\n",
    "        layer.trainable=False\n",
    "    model=Flatten(name=\"flatten\")(model_vgg.output)\n",
    "    model=Dense(10,activation=\"softmax\")(model)\n",
    "    vgg_mnist=Model(inputs=model_vgg.input,outputs=model,name=\"vgg16\")\n",
    "\n",
    "\n",
    "    return vgg_mnist"
   ]
  },
  {
   "cell_type": "code",
   "execution_count": 3,
   "metadata": {},
   "outputs": [],
   "source": [
    "def train_mnist(dataset):\n",
    "    \n",
    "        (x_train, y_train), (x_test, y_test) = dataset.load_data() #original size train(xxx, 28, 28),test(xxx)\n",
    "        \n",
    "        #translate y_train and y_test to “one hot” form\n",
    "        y_train = utils.to_categorical(y_train) \n",
    "        y_test = utils.to_categorical(y_test)\n",
    "\n",
    "        #Modify the size of the data set and convert the grayscale image to an RGB image\n",
    "        x_train=[cv2.cvtColor(cv2.resize(i,(48,48)),cv2.COLOR_GRAY2BGR)for i in x_train]  #x_train shape(10000,48,48,3)\n",
    "        x_train=np.concatenate([arr[np.newaxis]for arr in x_train]).astype('float32')\n",
    "        x_train=x_train/255\n",
    "        x_test=[cv2.cvtColor(cv2.resize(i,(48,48)),cv2.COLOR_GRAY2BGR)for i in x_test]\n",
    "        x_test=np.concatenate([arr[np.newaxis]for arr in x_test]).astype('float32')\n",
    "        x_test=x_test/255\n",
    "        \n",
    "        model = VGG()\n",
    "        sgd=SGD(lr=0.05,decay=1e-5)\n",
    "        model.compile(optimizer=sgd,loss=\"categorical_crossentropy\",metrics=['accuracy'])\n",
    "        \n",
    "        print(\"\\nTraining：\")\n",
    "        model.fit(x_train, y_train, batch_size= 100, epochs= 5)\n",
    "\n",
    "        # Evaluation\n",
    "        print(\"\\nEvaluation：\")\n",
    "        final_loss, final_accuracy = model.evaluate(x_test, y_test)\n",
    "        print(\"loss= \", final_loss)\n",
    "        print(\"accuracy= \", final_accuracy)\n",
    "    \n",
    "        \n",
    "        print(\"success!\")\n",
    "        model.save('vgg_mnist.h5')\n",
    "        \n",
    "        outcome = model.predict(x_test[:1])\n",
    "        print(outcome)"
   ]
  },
  {
   "cell_type": "code",
   "execution_count": 4,
   "metadata": {},
   "outputs": [
    {
     "name": "stdout",
     "output_type": "stream",
     "text": [
      "\n",
      "Training：\n",
      "Epoch 1/5\n",
      "600/600 [==============================] - 3426s 6s/step - loss: 1.3035 - accuracy: 0.6460\n",
      "Epoch 2/5\n",
      "600/600 [==============================] - 3087s 5s/step - loss: 0.5477 - accuracy: 0.8636\n",
      "Epoch 3/5\n",
      "600/600 [==============================] - 3036s 5s/step - loss: 0.4290 - accuracy: 0.8914\n",
      "Epoch 4/5\n",
      "600/600 [==============================] - 3010s 5s/step - loss: 0.3743 - accuracy: 0.9044\n",
      "Epoch 5/5\n",
      "600/600 [==============================] - 2995s 5s/step - loss: 0.3373 - accuracy: 0.9123\n",
      "\n",
      "Evaluation：\n",
      "313/313 [==============================] - 505s 2s/step - loss: 0.3062 - accuracy: 0.9234\n",
      "loss=  0.30624446272850037\n",
      "accuracy=  0.9233999848365784\n",
      "success!\n",
      "[[6.9486259e-06 3.8848002e-04 8.5115893e-04 4.1322513e-05 8.1744062e-04\n",
      "  7.3829222e-05 1.4947174e-04 9.9681109e-01 3.8630969e-05 8.2160172e-04]]\n"
     ]
    }
   ],
   "source": [
    "train_mnist(mnist)"
   ]
  }
 ],
 "metadata": {
  "kernelspec": {
   "display_name": "Python 3",
   "language": "python",
   "name": "python3"
  },
  "language_info": {
   "codemirror_mode": {
    "name": "ipython",
    "version": 3
   },
   "file_extension": ".py",
   "mimetype": "text/x-python",
   "name": "python",
   "nbconvert_exporter": "python",
   "pygments_lexer": "ipython3",
   "version": "3.8.5"
  }
 },
 "nbformat": 4,
 "nbformat_minor": 4
}
