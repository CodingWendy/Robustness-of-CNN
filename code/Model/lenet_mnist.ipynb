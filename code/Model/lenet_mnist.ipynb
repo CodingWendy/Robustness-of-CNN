{
 "cells": [
  {
   "cell_type": "code",
   "execution_count": 4,
   "metadata": {},
   "outputs": [],
   "source": [
    "from keras.models import Sequential\n",
    "from keras.layers.convolutional import Conv2D\n",
    "from keras.layers.convolutional import MaxPooling2D\n",
    "from keras.layers.core import Activation, Flatten, Dense,Dropout\n",
    "import numpy as np\n",
    "import matplotlib.pyplot as plt\n",
    "from keras import utils\n",
    "from keras.optimizers import Adam\n",
    "from keras.datasets import mnist\n",
    "from tensorflow.keras.models import load_model\n",
    "\n",
    "\n",
    "def build_LeNet5(inputShape):\n",
    "\n",
    "    lenet5 = Sequential()\n",
    "    lenet5.add(Conv2D(6, (5, 5), padding=\"valid\", input_shape=inputShape))\n",
    "    lenet5.add(Activation(\"relu\"))\n",
    "    lenet5.add(MaxPooling2D(pool_size=(2, 2), strides=(2, 2)))\n",
    "\n",
    "    lenet5.add(Conv2D(16, (5, 5), padding=\"valid\"))\n",
    "    lenet5.add(Activation(\"relu\"))\n",
    "    lenet5.add(MaxPooling2D(pool_size=(2, 2), strides=(2, 2)))\n",
    "\n",
    "    lenet5.add(Flatten())\n",
    "    lenet5.add(Dense(120, activation= \"relu\"))\n",
    "    lenet5.add(Dropout(0.5))\n",
    "    lenet5.add(Dense(84, activation= \"relu\"))\n",
    "    lenet5.add(Dropout(0.5))\n",
    "    \n",
    "\n",
    "    lenet5.add(Dense(10))\n",
    "    lenet5.add(Activation(\"softmax\"))\n",
    "    \n",
    "    lenet5.compile(optimizer=Adam(), loss=\"categorical_crossentropy\", metrics=[\"accuracy\"])\n",
    "    \n",
    "    return lenet5\n",
    "    "
   ]
  },
  {
   "cell_type": "code",
   "execution_count": 5,
   "metadata": {},
   "outputs": [],
   "source": [
    "def train_mnist(dataset):\n",
    "    \n",
    "        (x_train, y_train), (x_test, y_test) = dataset.load_data() #original size train(xxx, 28, 28),test(xxx)\n",
    "        \n",
    "        #translate the data to image\n",
    "        x_train = x_train.reshape(x_train.shape[0], -1).astype(\"float64\")\n",
    "        x_test = x_test.reshape(x_test.shape[0], -1).astype(\"float64\")\n",
    "\n",
    "        #normalization\n",
    "        x_train /= 255\n",
    "        x_test /= 255\n",
    "\n",
    "        #translate y_train and y_test to “one hot” form\n",
    "        y_train = utils.to_categorical(y_train) \n",
    "        y_test = utils.to_categorical(y_test)\n",
    "                \n",
    "        x_train = x_train.reshape(-1, 28, 28, 1)\n",
    "        x_test = x_test.reshape(-1, 28, 28, 1)\n",
    "        model = build_LeNet5((28,28,1))\n",
    "        define_batch_size = round(x_train.shape[0] * 0.001)  # batch_size\n",
    "        print(\"\\nTraining：\")\n",
    "        model.fit(x_train, y_train, batch_size= define_batch_size, epochs= 3)\n",
    "\n",
    "        # Evaluation\n",
    "        print(\"\\nEvaluation：\")\n",
    "        final_loss, final_accuracy = model.evaluate(x_test, y_test)\n",
    "        print(\"loss= \", final_loss)\n",
    "        print(\"accuracy= \", final_accuracy)\n",
    "    \n",
    "        \n",
    "        print(\"success!\")\n",
    "        model.save('Model/lenet5_mnist.h5')\n",
    "        \n",
    "        outcome = model.predict(x_test[:1])\n",
    "        print(outcome)\n",
    "        "
   ]
  },
  {
   "cell_type": "code",
   "execution_count": 6,
   "metadata": {},
   "outputs": [
    {
     "name": "stdout",
     "output_type": "stream",
     "text": [
      "\n",
      "Training：\n",
      "Epoch 1/3\n",
      "1000/1000 [==============================] - 34s 32ms/step - loss: 0.9021 - accuracy: 0.6938\n",
      "Epoch 2/3\n",
      "1000/1000 [==============================] - 26s 26ms/step - loss: 0.1887 - accuracy: 0.9479\n",
      "Epoch 3/3\n",
      "1000/1000 [==============================] - 30s 30ms/step - loss: 0.1250 - accuracy: 0.9671\n",
      "\n",
      "Evaluation：\n",
      "313/313 [==============================] - 1s 4ms/step - loss: 0.0512 - accuracy: 0.9840\n",
      "loss=  0.05123893916606903\n",
      "accuracy=  0.984000027179718\n",
      "success!\n",
      "[[3.2669306e-12 8.3807000e-10 1.7181630e-08 9.5495292e-09 2.9834850e-11\n",
      "  2.9791772e-13 1.5274253e-16 1.0000000e+00 1.0822690e-11 2.2866832e-08]]\n"
     ]
    }
   ],
   "source": [
    "train_mnist(mnist)"
   ]
  },
  {
   "cell_type": "code",
   "execution_count": null,
   "metadata": {},
   "outputs": [],
   "source": []
  }
 ],
 "metadata": {
  "kernelspec": {
   "display_name": "Python 3",
   "language": "python",
   "name": "python3"
  },
  "language_info": {
   "codemirror_mode": {
    "name": "ipython",
    "version": 3
   },
   "file_extension": ".py",
   "mimetype": "text/x-python",
   "name": "python",
   "nbconvert_exporter": "python",
   "pygments_lexer": "ipython3",
   "version": "3.8.5"
  }
 },
 "nbformat": 4,
 "nbformat_minor": 4
}
