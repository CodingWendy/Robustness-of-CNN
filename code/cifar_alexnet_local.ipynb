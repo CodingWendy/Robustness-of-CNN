{
 "cells": [
  {
   "cell_type": "code",
   "execution_count": 1,
   "metadata": {},
   "outputs": [],
   "source": [
    "import numpy as np\n",
    "import matplotlib.pyplot as plt\n",
    "from keras import utils\n",
    "from keras.optimizers import Adam\n",
    "from tensorflow.keras.models import load_model\n",
    "from keras.datasets import cifar10\n",
    "from keras.datasets import cifar100"
   ]
  },
  {
   "cell_type": "code",
   "execution_count": 2,
   "metadata": {},
   "outputs": [],
   "source": [
    "dataset1 = cifar10\n",
    "(x_train1, y_train1), (x_test1, y_test1) = dataset1.load_data() #original size train(xxx, 28, 28),test(xxx)\n",
    "\n",
    "img = x_test1[0]        \n",
    "#translate the data to image\n",
    "x_train1 = x_train1.astype(\"float32\")\n",
    "x_test1 = x_test1.astype(\"float32\")\n",
    "\n",
    "\n",
    "#normalization\n",
    "x_train1 /= 255\n",
    "x_test1 /= 255\n",
    "\n",
    "alextnet_10 = load_model('Model/alexnet_cifar10.h5')#load lenet5 model trained with mnist dataset \n",
    "alextnet_10.compile(optimizer=Adam(),loss='sparse_categorical_crossentropy',metrics=['accuracy']) "
   ]
  },
  {
   "cell_type": "code",
   "execution_count": 15,
   "metadata": {},
   "outputs": [
    {
     "name": "stdout",
     "output_type": "stream",
     "text": [
      "Sampled 818 images, 218 outside beta, 600 inside beta\n",
      "600 images inside beta have the same label, local robustness formula satisfied\n",
      "max safe distance: 0.03998\n"
     ]
    }
   ],
   "source": [
    "beta = 0.03998\n",
    "N = 600\n",
    "sample(x_test1[0],y_test1[0],alextnet_10,N,beta)"
   ]
  },
  {
   "cell_type": "code",
   "execution_count": 6,
   "metadata": {},
   "outputs": [
    {
     "name": "stdout",
     "output_type": "stream",
     "text": [
      "783 images inside beta have the same label, local robustness formula satisfied\n",
      "max safe distance: 0.0345\n"
     ]
    },
    {
     "data": {
      "text/plain": [
       "0.0345"
      ]
     },
     "execution_count": 6,
     "metadata": {},
     "output_type": "execute_result"
    }
   ],
   "source": [
    "beta = 0.0345\n",
    "N = 783\n",
    "sample(x_test1[0],y_test1[0],alextnet_10,N, beta)"
   ]
  },
  {
   "cell_type": "code",
   "execution_count": 8,
   "metadata": {},
   "outputs": [
    {
     "name": "stdout",
     "output_type": "stream",
     "text": [
      "671 images inside beta have the same label, local robustness formula satisfied\n",
      "max safe distance: 0.0387\n"
     ]
    },
    {
     "data": {
      "text/plain": [
       "0.0387"
      ]
     },
     "execution_count": 8,
     "metadata": {},
     "output_type": "execute_result"
    }
   ],
   "source": [
    "beta = 0.0387\n",
    "N = 671\n",
    "sample(x_test1[0],y_test1[0],alextnet_10,N, beta)"
   ]
  },
  {
   "cell_type": "code",
   "execution_count": 9,
   "metadata": {},
   "outputs": [],
   "source": [
    "dataset2 = cifar100\n",
    "(x_train2, y_train2), (x_test2, y_test2) = dataset2.load_data() #original size train(xxx, 28, 28),test(xxx)\n",
    "\n",
    "img = x_test2[0]        \n",
    "#translate the data to image\n",
    "x_train2 = x_train2.astype(\"float32\")\n",
    "x_test2 = x_test2.astype(\"float32\")\n",
    "\n",
    "\n",
    "#normalization\n",
    "x_train2 /= 255\n",
    "x_test2 /= 255\n",
    "\n",
    "alextnet_100 = load_model('Model/alexnet_cifar100.h5')#load lenet5 model trained with mnist dataset \n",
    "alextnet_100.compile(optimizer=Adam(),loss='sparse_categorical_crossentropy',metrics=['accuracy']) \n"
   ]
  },
  {
   "cell_type": "code",
   "execution_count": 13,
   "metadata": {},
   "outputs": [
    {
     "name": "stdout",
     "output_type": "stream",
     "text": [
      "Beta is reduced by 0.0001, the new beta is 0.024900000000000002\n",
      "Beta is reduced by 0.0001, the new beta is 0.024800000000000003\n",
      "Beta is reduced by 0.0001, the new beta is 0.024700000000000003\n",
      "Beta is reduced by 0.0001, the new beta is 0.024600000000000004\n",
      "Beta is reduced by 0.0001, the new beta is 0.024500000000000004\n",
      "Beta is reduced by 0.0001, the new beta is 0.024400000000000005\n",
      "Beta is reduced by 0.0001, the new beta is 0.024300000000000006\n",
      "Beta is reduced by 0.0001, the new beta is 0.024200000000000006\n",
      "Beta is reduced by 0.0001, the new beta is 0.024100000000000007\n",
      "Beta is reduced by 0.0001, the new beta is 0.024000000000000007\n",
      "Beta is reduced by 0.0001, the new beta is 0.023900000000000008\n",
      "Beta is reduced by 0.0001, the new beta is 0.02380000000000001\n",
      "Beta is reduced by 0.0001, the new beta is 0.02370000000000001\n",
      "Beta is reduced by 0.0001, the new beta is 0.02360000000000001\n",
      "Beta is reduced by 0.0001, the new beta is 0.02350000000000001\n",
      "Beta is reduced by 0.0001, the new beta is 0.02340000000000001\n",
      "Beta is reduced by 0.0001, the new beta is 0.02330000000000001\n",
      "Beta is reduced by 0.0001, the new beta is 0.023200000000000012\n",
      "Beta is reduced by 0.0001, the new beta is 0.023100000000000013\n",
      "Beta is reduced by 0.0001, the new beta is 0.023000000000000013\n",
      "Beta is reduced by 0.0001, the new beta is 0.022900000000000014\n",
      "Beta is reduced by 0.0001, the new beta is 0.022800000000000015\n",
      "Beta is reduced by 0.0001, the new beta is 0.022700000000000015\n",
      "Beta is reduced by 0.0001, the new beta is 0.022600000000000016\n",
      "Beta is reduced by 0.0001, the new beta is 0.022500000000000017\n",
      "Beta is reduced by 0.0001, the new beta is 0.022400000000000017\n",
      "Beta is reduced by 0.0001, the new beta is 0.022300000000000018\n",
      "Beta is reduced by 0.0001, the new beta is 0.02220000000000002\n",
      "Beta is reduced by 0.0001, the new beta is 0.02210000000000002\n",
      "Beta is reduced by 0.0001, the new beta is 0.02200000000000002\n",
      "Beta is reduced by 0.0001, the new beta is 0.02190000000000002\n",
      "Beta is reduced by 0.0001, the new beta is 0.02180000000000002\n",
      "Beta is reduced by 0.0001, the new beta is 0.02170000000000002\n",
      "Beta is reduced by 0.0001, the new beta is 0.021600000000000022\n",
      "Beta is reduced by 0.0001, the new beta is 0.021500000000000023\n",
      "Beta is reduced by 0.0001, the new beta is 0.021400000000000023\n",
      "Beta is reduced by 0.0001, the new beta is 0.021300000000000024\n",
      "Beta is reduced by 0.0001, the new beta is 0.021200000000000024\n",
      "Beta is reduced by 0.0001, the new beta is 0.021100000000000025\n",
      "Beta is reduced by 0.0001, the new beta is 0.021000000000000026\n",
      "Beta is reduced by 0.0001, the new beta is 0.020900000000000026\n",
      "Beta is reduced by 0.0001, the new beta is 0.020800000000000027\n",
      "Beta is reduced by 0.0001, the new beta is 0.020700000000000027\n",
      "Beta is reduced by 0.0001, the new beta is 0.020600000000000028\n",
      "Beta is reduced by 0.0001, the new beta is 0.02050000000000003\n",
      "Sampled 978 images, 378 outside beta, 600 inside beta\n",
      "600 images inside beta have the same label, local robustness formula satisfied\n",
      "max safe distance: 0.02050000000000003\n"
     ]
    }
   ],
   "source": [
    "beta = 0.025\n",
    "N = 600\n",
    "sample(x_test2[0],y_test2[0],alextnet_100,N,beta)\n"
   ]
  },
  {
   "cell_type": "code",
   "execution_count": 14,
   "metadata": {},
   "outputs": [],
   "source": [
    "def sample(x_test,y_test,model,N, beta):\n",
    "    \n",
    "    max_distance = 0  #max safe distance\n",
    "    count = 0\n",
    "    count2 = 0\n",
    "    neighbour_list=[]\n",
    "    mean = np.zeros(3)  \n",
    "    cov = np.eye(3)\n",
    "    label = y_test\n",
    "    \n",
    "    while True:\n",
    "        count2+=1\n",
    "        p = np.random.multivariate_normal(mean, cov,(32,32)) #sample formula\n",
    "        neighbour = p + x_test*255\n",
    "        neighbour /= 255\n",
    "        neighbour=neighbour.reshape(1,32,32,3) #reshape to the size that can be used in model\n",
    "        distance=np.linalg.norm(p[0]) \n",
    "        distance /= 255\n",
    "        #print(distance)\n",
    "        if (distance < beta or distance == beta): #inside the radius\n",
    "            \n",
    "            output = model.predict(neighbour,batch_size=128)\n",
    "            proba = softmax(output)\n",
    "            pred = np.argmax(proba)\n",
    "            \n",
    "            if(pred == label): #correct prediction\n",
    "                #neighbour_list.append((proba[label],neighbour))\n",
    "                count+=1  \n",
    "            else:  #if there are some iamges inside beta cannot have the same label, beta will be decreased\n",
    "                beta = beta-0.0001\n",
    "                print(\"Beta is reduced by 0.0001, the new beta is\",beta)   \n",
    "            \n",
    "        if(count==N):  \n",
    "            #print(\"Sampled %s images, %s outside beta, %s inside beta\" % (count2, count2-count,count))\n",
    "            print(\"%s images inside beta have the same label, local robustness formula satisfied\" %N)\n",
    "            break\n",
    "\n",
    "          \n",
    "    \n",
    "    print(\"max safe distance:\",beta)            "
   ]
  },
  {
   "cell_type": "code",
   "execution_count": 4,
   "metadata": {},
   "outputs": [],
   "source": [
    "def softmax(x):\n",
    "    e_x = np.exp(x-np.max(x))\n",
    "    return e_x / e_x.sum()"
   ]
  },
  {
   "cell_type": "code",
   "execution_count": 9,
   "metadata": {},
   "outputs": [
    {
     "name": "stdout",
     "output_type": "stream",
     "text": [
      "783 images inside beta have the same label, local robustness formula satisfied\n",
      "max safe distance: 0.0162\n"
     ]
    },
    {
     "data": {
      "text/plain": [
       "0.0162"
      ]
     },
     "execution_count": 9,
     "metadata": {},
     "output_type": "execute_result"
    }
   ],
   "source": [
    "beta = 0.0162\n",
    "N = 783\n",
    "sample(x_test2[0],y_test2[0],alextnet_100,N, beta)"
   ]
  },
  {
   "cell_type": "code",
   "execution_count": 10,
   "metadata": {},
   "outputs": [
    {
     "name": "stdout",
     "output_type": "stream",
     "text": [
      "671 images inside beta have the same label, local robustness formula satisfied\n",
      "max safe distance: 0.0183\n"
     ]
    },
    {
     "data": {
      "text/plain": [
       "0.0183"
      ]
     },
     "execution_count": 10,
     "metadata": {},
     "output_type": "execute_result"
    }
   ],
   "source": [
    "beta = 0.0183\n",
    "N = 671\n",
    "sample(x_test2[0],y_test2[0],alextnet_100,N, beta)"
   ]
  },
  {
   "cell_type": "code",
   "execution_count": null,
   "metadata": {},
   "outputs": [],
   "source": []
  }
 ],
 "metadata": {
  "kernelspec": {
   "display_name": "Python 3",
   "language": "python",
   "name": "python3"
  },
  "language_info": {
   "codemirror_mode": {
    "name": "ipython",
    "version": 3
   },
   "file_extension": ".py",
   "mimetype": "text/x-python",
   "name": "python",
   "nbconvert_exporter": "python",
   "pygments_lexer": "ipython3",
   "version": "3.8.5"
  }
 },
 "nbformat": 4,
 "nbformat_minor": 4
}
