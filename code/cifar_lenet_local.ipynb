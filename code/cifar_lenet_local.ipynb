{
 "cells": [
  {
   "cell_type": "code",
   "execution_count": 3,
   "metadata": {},
   "outputs": [],
   "source": [
    "from keras.models import Sequential\n",
    "from keras.layers.convolutional import Conv2D\n",
    "from keras.layers.convolutional import MaxPooling2D\n",
    "from keras.layers.core import Activation, Flatten, Dense,Dropout\n",
    "\n",
    "import numpy as np\n",
    "import matplotlib.pyplot as plt\n",
    "from keras import utils\n",
    "from keras.optimizers import Adam\n",
    "from tensorflow.keras.models import load_model\n",
    "from keras.datasets import cifar10\n",
    "from keras.datasets import cifar100"
   ]
  },
  {
   "cell_type": "markdown",
   "metadata": {},
   "source": [
    "Cifar10 Lenet Local test"
   ]
  },
  {
   "cell_type": "code",
   "execution_count": 4,
   "metadata": {},
   "outputs": [
    {
     "data": {
      "image/png": "[encoded data removed]",
      "text/plain": [
       "<Figure size 432x288 with 1 Axes>"
      ]
     },
     "metadata": {
      "needs_background": "light"
     },
     "output_type": "display_data"
    }
   ],
   "source": [
    "dataset1 = cifar10\n",
    "(x_train1, y_train1), (x_test1, y_test1) = dataset1.load_data() #original size train(xxx, 28, 28),test(xxx)\n",
    "\n",
    "img = x_test1[0] \n",
    "plt.imshow(img)\n",
    "\n",
    "\n",
    "#translate the data to image\n",
    "x_train1 = x_train1.astype(\"float32\")\n",
    "x_test1 = x_test1.astype(\"float32\")\n",
    "\n",
    "\n",
    "#normalization\n",
    "x_train1 /= 255\n",
    "x_test1 /= 255\n",
    "\n",
    "\n",
    "\n",
    "lenet5_10 = load_model('Model/lenet5_cifar10.h5')#load lenet5 model trained with mnist dataset \n",
    "lenet5_10.compile(optimizer=Adam(),loss='sparse_categorical_crossentropy',metrics=['accuracy']) "
   ]
  },
  {
   "cell_type": "code",
   "execution_count": 5,
   "metadata": {},
   "outputs": [
    {
     "name": "stdout",
     "output_type": "stream",
     "text": [
      "Sampled 769 images, 169 outside beta, 600 inside beta\n",
      "600 images inside beta have the same label, local robustness formula satisfied\n",
      "max safe distance: 0.04057\n"
     ]
    }
   ],
   "source": [
    "beta = 0.04057\n",
    "N = 600\n",
    "sample(x_test1[0],y_test1[0],lenet5_10,N,beta)\n"
   ]
  },
  {
   "cell_type": "code",
   "execution_count": 1,
   "metadata": {},
   "outputs": [
    {
     "name": "stdout",
     "output_type": "stream",
     "text": [
      "671 images inside beta have the same label, local robustness formula satisfied\n",
      "max safe distance: 0.0382\n"
     ]
    }
   ],
   "source": [
    "beta = 0.0382\n",
    "N = 671\n",
    "sample(x_test1[0],y_test1[0],lenet5_10,N,beta)"
   ]
  },
  {
   "cell_type": "code",
   "execution_count": 2,
   "metadata": {},
   "outputs": [
    {
     "name": "stdout",
     "output_type": "stream",
     "text": [
      "783 images inside beta have the same label, local robustness formula satisfied\n",
      "max safe distance: 0.0312\n"
     ]
    }
   ],
   "source": [
    "beta = 0.0312\n",
    "N = 783\n",
    "sample(x_test1[0],y_test1[0],lenet5_10,N,beta)"
   ]
  },
  {
   "cell_type": "markdown",
   "metadata": {},
   "source": [
    "Cifar100 Lenet Local test"
   ]
  },
  {
   "cell_type": "code",
   "execution_count": 6,
   "metadata": {},
   "outputs": [],
   "source": [
    "dataset2 = cifar100\n",
    "(x_train2, y_train2), (x_test2, y_test2) = dataset2.load_data() #original size train(xxx, 28, 28),test(xxx)\n",
    "\n",
    "img = x_test2[0]        \n",
    "#translate the data to image\n",
    "x_train2 = x_train2.astype(\"float32\")\n",
    "x_test2 = x_test2.astype(\"float32\")\n",
    "\n",
    "\n",
    "#normalization\n",
    "x_train2 /= 255\n",
    "x_test2 /= 255\n",
    "\n",
    "lenet5_100 = load_model('Model/lenet5_cifar100.h5')#load lenet5 model trained with mnist dataset \n",
    "lenet5_100.compile(optimizer=Adam(),loss='sparse_categorical_crossentropy',metrics=['accuracy']) \n",
    "\n"
   ]
  },
  {
   "cell_type": "code",
   "execution_count": 25,
   "metadata": {
    "scrolled": true
   },
   "outputs": [
    {
     "name": "stdout",
     "output_type": "stream",
     "text": [
      "Beta is reduced by 0.0001, the new beta is 0.019700000000000002\n",
      "Beta is reduced by 0.0001, the new beta is 0.019600000000000003\n",
      "Beta is reduced by 0.0001, the new beta is 0.019500000000000003\n",
      "Beta is reduced by 0.0001, the new beta is 0.019400000000000004\n",
      "Beta is reduced by 0.0001, the new beta is 0.019300000000000005\n",
      "Beta is reduced by 0.0001, the new beta is 0.019200000000000005\n",
      "Beta is reduced by 0.0001, the new beta is 0.019100000000000006\n",
      "Beta is reduced by 0.0001, the new beta is 0.019000000000000006\n",
      "Beta is reduced by 0.0001, the new beta is 0.018900000000000007\n",
      "Beta is reduced by 0.0001, the new beta is 0.018800000000000008\n",
      "Beta is reduced by 0.0001, the new beta is 0.01870000000000001\n",
      "Beta is reduced by 0.0001, the new beta is 0.01860000000000001\n",
      "Beta is reduced by 0.0001, the new beta is 0.01850000000000001\n",
      "Beta is reduced by 0.0001, the new beta is 0.01840000000000001\n",
      "Beta is reduced by 0.0001, the new beta is 0.01830000000000001\n",
      "Beta is reduced by 0.0001, the new beta is 0.01820000000000001\n",
      "Beta is reduced by 0.0001, the new beta is 0.018100000000000012\n",
      "Beta is reduced by 0.0001, the new beta is 0.018000000000000013\n",
      "Beta is reduced by 0.0001, the new beta is 0.017900000000000013\n",
      "Beta is reduced by 0.0001, the new beta is 0.017800000000000014\n",
      "Beta is reduced by 0.0001, the new beta is 0.017700000000000014\n",
      "Beta is reduced by 0.0001, the new beta is 0.017600000000000015\n",
      "Beta is reduced by 0.0001, the new beta is 0.017500000000000016\n",
      "Beta is reduced by 0.0001, the new beta is 0.017400000000000016\n",
      "Beta is reduced by 0.0001, the new beta is 0.017300000000000017\n",
      "Beta is reduced by 0.0001, the new beta is 0.017200000000000017\n",
      "Beta is reduced by 0.0001, the new beta is 0.017100000000000018\n",
      "Beta is reduced by 0.0001, the new beta is 0.01700000000000002\n",
      "Beta is reduced by 0.0001, the new beta is 0.01690000000000002\n",
      "Beta is reduced by 0.0001, the new beta is 0.01680000000000002\n",
      "Beta is reduced by 0.0001, the new beta is 0.01670000000000002\n",
      "Beta is reduced by 0.0001, the new beta is 0.01660000000000002\n",
      "Beta is reduced by 0.0001, the new beta is 0.01650000000000002\n",
      "Beta is reduced by 0.0001, the new beta is 0.016400000000000022\n",
      "Beta is reduced by 0.0001, the new beta is 0.016300000000000023\n",
      "Beta is reduced by 0.0001, the new beta is 0.016200000000000023\n",
      "Beta is reduced by 0.0001, the new beta is 0.016100000000000024\n",
      "Beta is reduced by 0.0001, the new beta is 0.016000000000000025\n",
      "Beta is reduced by 0.0001, the new beta is 0.015900000000000025\n",
      "Beta is reduced by 0.0001, the new beta is 0.015800000000000026\n",
      "Beta is reduced by 0.0001, the new beta is 0.015700000000000026\n",
      "Beta is reduced by 0.0001, the new beta is 0.015600000000000027\n",
      "Beta is reduced by 0.0001, the new beta is 0.015500000000000028\n",
      "Beta is reduced by 0.0001, the new beta is 0.015400000000000028\n",
      "Beta is reduced by 0.0001, the new beta is 0.015300000000000029\n",
      "Beta is reduced by 0.0001, the new beta is 0.01520000000000003\n",
      "Beta is reduced by 0.0001, the new beta is 0.01510000000000003\n",
      "Beta is reduced by 0.0001, the new beta is 0.01500000000000003\n"
     ]
    },
    {
     "ename": "KeyboardInterrupt",
     "evalue": "",
     "output_type": "error",
     "traceback": [
      "\u001b[0;31m---------------------------------------------------------------------------\u001b[0m",
      "\u001b[0;31mKeyboardInterrupt\u001b[0m                         Traceback (most recent call last)",
      "\u001b[0;32m<ipython-input-25-478028451501>\u001b[0m in \u001b[0;36m<module>\u001b[0;34m\u001b[0m\n\u001b[1;32m      1\u001b[0m \u001b[0mbeta\u001b[0m \u001b[0;34m=\u001b[0m \u001b[0;36m0.01980\u001b[0m\u001b[0;34m\u001b[0m\u001b[0;34m\u001b[0m\u001b[0m\n\u001b[0;32m----> 2\u001b[0;31m \u001b[0msample\u001b[0m\u001b[0;34m(\u001b[0m\u001b[0mx_test2\u001b[0m\u001b[0;34m[\u001b[0m\u001b[0;36m0\u001b[0m\u001b[0;34m]\u001b[0m\u001b[0;34m,\u001b[0m\u001b[0my_test2\u001b[0m\u001b[0;34m[\u001b[0m\u001b[0;36m0\u001b[0m\u001b[0;34m]\u001b[0m\u001b[0;34m,\u001b[0m\u001b[0mlenet5_100\u001b[0m\u001b[0;34m,\u001b[0m\u001b[0mbeta\u001b[0m\u001b[0;34m)\u001b[0m\u001b[0;34m\u001b[0m\u001b[0;34m\u001b[0m\u001b[0m\n\u001b[0m",
      "\u001b[0;32m<ipython-input-24-e51e696a76f9>\u001b[0m in \u001b[0;36msample\u001b[0;34m(x_test, y_test, model, beta)\u001b[0m\n\u001b[1;32m      9\u001b[0m     \u001b[0;32mwhile\u001b[0m \u001b[0;32mTrue\u001b[0m\u001b[0;34m:\u001b[0m\u001b[0;34m\u001b[0m\u001b[0;34m\u001b[0m\u001b[0m\n\u001b[1;32m     10\u001b[0m         \u001b[0mcount2\u001b[0m\u001b[0;34m+=\u001b[0m\u001b[0;36m1\u001b[0m\u001b[0;34m\u001b[0m\u001b[0;34m\u001b[0m\u001b[0m\n\u001b[0;32m---> 11\u001b[0;31m         \u001b[0mp\u001b[0m \u001b[0;34m=\u001b[0m \u001b[0mnp\u001b[0m\u001b[0;34m.\u001b[0m\u001b[0mrandom\u001b[0m\u001b[0;34m.\u001b[0m\u001b[0mmultivariate_normal\u001b[0m\u001b[0;34m(\u001b[0m\u001b[0mmean\u001b[0m\u001b[0;34m,\u001b[0m \u001b[0mcov\u001b[0m\u001b[0;34m,\u001b[0m\u001b[0;34m(\u001b[0m\u001b[0;36m32\u001b[0m\u001b[0;34m,\u001b[0m\u001b[0;36m32\u001b[0m\u001b[0;34m)\u001b[0m\u001b[0;34m)\u001b[0m \u001b[0;31m#sample formula\u001b[0m\u001b[0;34m\u001b[0m\u001b[0;34m\u001b[0m\u001b[0m\n\u001b[0m\u001b[1;32m     12\u001b[0m         \u001b[0mneighbour\u001b[0m \u001b[0;34m=\u001b[0m \u001b[0mp\u001b[0m \u001b[0;34m+\u001b[0m \u001b[0mx_test\u001b[0m\u001b[0;34m*\u001b[0m\u001b[0;36m255\u001b[0m\u001b[0;34m\u001b[0m\u001b[0;34m\u001b[0m\u001b[0m\n\u001b[1;32m     13\u001b[0m         \u001b[0mneighbour\u001b[0m \u001b[0;34m/=\u001b[0m \u001b[0;36m255\u001b[0m\u001b[0;34m\u001b[0m\u001b[0;34m\u001b[0m\u001b[0m\n",
      "\u001b[0;32mmtrand.pyx\u001b[0m in \u001b[0;36mnumpy.random.mtrand.RandomState.multivariate_normal\u001b[0;34m()\u001b[0m\n",
      "\u001b[0;32m<__array_function__ internals>\u001b[0m in \u001b[0;36msvd\u001b[0;34m(*args, **kwargs)\u001b[0m\n",
      "\u001b[0;31mKeyboardInterrupt\u001b[0m: "
     ]
    }
   ],
   "source": [
    "beta = 0.01980\n",
    "N = 600\n",
    "sample(x_test2[0],y_test2[0],lenet5_100,beta)"
   ]
  },
  {
   "cell_type": "code",
   "execution_count": 24,
   "metadata": {},
   "outputs": [],
   "source": [
    "def sample(x_test,y_test,model,N,beta):\n",
    "    \n",
    "    count = 0\n",
    "    count2 = 0\n",
    "    mean = np.zeros(3)  \n",
    "    cov = np.eye(3)\n",
    "    label = y_test\n",
    "    \n",
    "    while True:\n",
    "        count2+=1\n",
    "        p = np.random.multivariate_normal(mean, cov,(32,32)) #sample formula\n",
    "        neighbour = p + x_test*255\n",
    "        neighbour /= 255\n",
    "        neighbour=neighbour.reshape(1,32,32,3)\n",
    "        distance=np.linalg.norm(p[0]) \n",
    "        distance /=255\n",
    "        \n",
    "        if (distance < beta or distance == beta): #satisfy the distance \n",
    "            \n",
    "            output = model.predict(neighbour,batch_size=128)  #prediction\n",
    "            proba = softmax(output)\n",
    "            pred = np.argmax(proba)\n",
    "            if(pred == label): #correct prediction\n",
    "                print(distance)\n",
    "                neighbour = (neighbour*255).astype(np.uint8).reshape(32,32,3)\n",
    "                count+=1  \n",
    "            else:  #if there are some iamges inside beta cannot have the same label, beta will be decreased\n",
    "                beta = beta-0.0001\n",
    "                print(\"Beta is reduced by 0.0001, the new beta is\",beta)   \n",
    "            \n",
    "        if(count==N):  \n",
    "            print(\"Sampled %s images, %s outside beta, %s inside beta\" % (count2, count2-count,count))\n",
    "            print(\"%s images inside beta have the same label, local robustness formula satisfied\" %N)\n",
    "            break\n",
    "\n",
    "          \n",
    "    print(\"max safe distance:\", beta)     \n"
   ]
  },
  {
   "cell_type": "code",
   "execution_count": 1,
   "metadata": {},
   "outputs": [],
   "source": [
    "def softmax(x):\n",
    "    e_x = np.exp(x-np.max(x))\n",
    "    return e_x / e_x.sum()"
   ]
  },
  {
   "cell_type": "code",
   "execution_count": 15,
   "metadata": {},
   "outputs": [
    {
     "name": "stdout",
     "output_type": "stream",
     "text": [
      "(32, 32, 3)\n"
     ]
    }
   ],
   "source": [
    "#sample size confirm\n",
    "mean = np.zeros(3)  \n",
    "cov = np.eye(3)\n",
    "    \n",
    "p = np.random.multivariate_normal(mean, cov,(32,32,32))\n",
    "print(p.shape[1:])"
   ]
  },
  {
   "cell_type": "code",
   "execution_count": null,
   "metadata": {},
   "outputs": [],
   "source": []
  }
 ],
 "metadata": {
  "kernelspec": {
   "display_name": "Python 3",
   "language": "python",
   "name": "python3"
  },
  "language_info": {
   "codemirror_mode": {
    "name": "ipython",
    "version": 3
   },
   "file_extension": ".py",
   "mimetype": "text/x-python",
   "name": "python",
   "nbconvert_exporter": "python",
   "pygments_lexer": "ipython3",
   "version": "3.8.5"
  }
 },
 "nbformat": 4,
 "nbformat_minor": 4
}
