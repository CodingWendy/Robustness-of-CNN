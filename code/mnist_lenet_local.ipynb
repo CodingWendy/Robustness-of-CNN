{
 "cells": [
  {
   "cell_type": "code",
   "execution_count": 32,
   "metadata": {},
   "outputs": [
    {
     "data": {
      "image/png": "[encoded data removed]",
      "text/plain": [
       "<Figure size 432x288 with 1 Axes>"
      ]
     },
     "metadata": {
      "needs_background": "light"
     },
     "output_type": "display_data"
    }
   ],
   "source": [
    "from keras.datasets import mnist \n",
    "import matplotlib.pyplot as plt \n",
    "from keras.optimizers import Adam \n",
    "from keras import utils \n",
    "import numpy as np\n",
    "import matplotlib.pyplot as plt \n",
    "from tensorflow.keras.models import load_model \n",
    "\n",
    "dataset = mnist\n",
    "(x_train, y_train), (x_test, y_test) = dataset.load_data() #translate the data to image \n",
    "\n",
    "img = x_test[1]\n",
    "plt.imshow(img)\n",
    "x_test = x_test.reshape(x_test.shape[0], -1).astype(\"float64\")\n",
    "\n",
    "#normalization \n",
    "x_test /= 255\n",
    "\n",
    "x_test = x_test.reshape(-1, 28, 28, 1)\n",
    "\n",
    "lenet5 = load_model('Model/lenet5_mnist.h5')#load lenet5 model trained with mnist dataset \n",
    "lenet5.compile(optimizer=Adam(),loss='sparse_categorical_crossentropy',metrics=['accuracy']) \n",
    "\n"
   ]
  },
  {
   "cell_type": "code",
   "execution_count": 47,
   "metadata": {},
   "outputs": [
    {
     "name": "stdout",
     "output_type": "stream",
     "text": [
      "Sampled 600 images inside beta\n",
      "600 images inside beta have the same label, local robustness formula satisfied\n"
     ]
    },
    {
     "data": {
      "image/png": "[encoded data removed]",
      "text/plain": [
       "<Figure size 576x576 with 5 Axes>"
      ]
     },
     "metadata": {
      "needs_background": "light"
     },
     "output_type": "display_data"
    },
    {
     "data": {
      "text/plain": [
       "0.112"
      ]
     },
     "execution_count": 47,
     "metadata": {},
     "output_type": "execute_result"
    }
   ],
   "source": [
    "beta = 0.112\n",
    "sample(x_test[1],y_test[1],beta)"
   ]
  },
  {
   "cell_type": "code",
   "execution_count": 45,
   "metadata": {},
   "outputs": [],
   "source": [
    "def sample(x_test,y_test,beta):\n",
    "    \n",
    "    max_distance = 0  #max safe distance\n",
    "    count = 0\n",
    "    count2 = 0\n",
    "    neighbour_list=[]\n",
    "    mean = np.zeros(2)  \n",
    "    cov = np.eye(2)\n",
    "    label = y_test\n",
    "    \n",
    "    while True:\n",
    "        count2+=1\n",
    "        p = np.random.multivariate_normal(mean, cov,(28,28)) #sample formula\n",
    "        p = p.reshape(-1,28,28,1) \n",
    "        neighbour = p[0] + x_test*255\n",
    "        neighbour /= 255\n",
    "        distance=np.linalg.norm(p[0]) \n",
    "        distance /= 255\n",
    "        #print(distance)\n",
    "        if (distance < beta or distance == beta):\n",
    "            #print(distance)\n",
    "            output = lenet5.predict(neighbour.reshape(-1, 28, 28, 1),batch_size=128)[0]\n",
    "            proba = softmax(output)\n",
    "            pred = np.argmax(proba)\n",
    "            neighbour = (neighbour*255).astype(np.uint8).reshape(28,28)\n",
    "            if(pred == label): \n",
    "                neighbour_list.append((proba[label],neighbour))\n",
    "                count+=1  #correct prediction\n",
    "            else:  #if there are some iamges inside beta cannot have the same label, beta will be decreased\n",
    "                beta = beta-0.001\n",
    "                neighbour_list.append((proba[label],neighbour))\n",
    "                print(\"Beta is reduced by 0.001, the new beta is\",beta)   \n",
    "            \n",
    "        if(count==600):  \n",
    "            print(\"Sampled %s images inside beta\" % count)\n",
    "            print(\"600 images inside beta have the same label, local robustness formula satisfied\")\n",
    "            break\n",
    "        \n",
    "    neighbour_list.sort(key = lambda x : x[0],reverse = True) #sort the probability of each prediction\n",
    "    #print(neighbour_list[0][1].shape)\n",
    "    \n",
    "    #show some positive examples\n",
    "    figure = plt.figure(figsize = (8,8))\n",
    "    plt.axis(\"off\")\n",
    "    for i in range(4):\n",
    "        figure.add_subplot(2,2,i+1)\n",
    "        plt.imshow(neighbour_list[i][1].reshape(28,28))\n",
    "        plt.axis(\"off\")\n",
    "    plt.show()  \n",
    "\n",
    "    return beta"
   ]
  },
  {
   "cell_type": "code",
   "execution_count": 46,
   "metadata": {},
   "outputs": [],
   "source": [
    "def softmax(x):\n",
    "    e_x = np.exp(x-np.max(x))\n",
    "    return e_x / e_x.sum()"
   ]
  },
  {
   "cell_type": "code",
   "execution_count": 27,
   "metadata": {},
   "outputs": [
    {
     "name": "stdout",
     "output_type": "stream",
     "text": [
      "(28, 28, 2)\n"
     ]
    }
   ],
   "source": [
    "mean = np.zeros(2)  \n",
    "cov = np.eye(2)\n",
    "p = np.random.multivariate_normal(mean, cov,(28,28))\n",
    "print(p.shape)"
   ]
  },
  {
   "cell_type": "code",
   "execution_count": null,
   "metadata": {},
   "outputs": [],
   "source": []
  }
 ],
 "metadata": {
  "kernelspec": {
   "display_name": "Python 3",
   "language": "python",
   "name": "python3"
  },
  "language_info": {
   "codemirror_mode": {
    "name": "ipython",
    "version": 3
   },
   "file_extension": ".py",
   "mimetype": "text/x-python",
   "name": "python",
   "nbconvert_exporter": "python",
   "pygments_lexer": "ipython3",
   "version": "3.8.5"
  }
 },
 "nbformat": 4,
 "nbformat_minor": 4
}
