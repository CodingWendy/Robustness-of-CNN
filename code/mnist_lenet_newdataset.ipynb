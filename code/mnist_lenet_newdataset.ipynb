{
 "cells": [
  {
   "cell_type": "code",
   "execution_count": 1,
   "metadata": {},
   "outputs": [],
   "source": [
    "from keras.datasets import mnist \n",
    "import matplotlib.pyplot as plt \n",
    "from keras.optimizers import Adam \n",
    "from keras import utils \n",
    "import numpy as np \n",
    "import math\n",
    "from tensorflow.keras.models import load_model \n",
    "from keras.models import Sequential\n",
    "from keras.layers.convolutional import Conv2D\n",
    "from keras.layers.convolutional import MaxPooling2D\n",
    "from keras.layers.core import Activation, Flatten, Dense,Dropout"
   ]
  },
  {
   "cell_type": "code",
   "execution_count": 3,
   "metadata": {},
   "outputs": [],
   "source": [
    "dataset = mnist\n",
    "(x_train, y_train), (x_test, y_test) = dataset.load_data() #translate the data to image \n",
    "\n",
    "x_train = x_train.reshape(x_train.shape[0], -1).astype(\"float64\") \n",
    "x_test = x_test.reshape(x_test.shape[0], -1).astype(\"float64\")\n",
    "\n",
    "#normalization \n",
    "x_train /= 255 \n",
    "x_test /= 255\n",
    "\n",
    "x_train = x_train.reshape(-1, 28, 28, 1) \n",
    "x_test = x_test.reshape(-1, 28, 28, 1)\n",
    "\n",
    "        #translate y_train and y_test to “one hot” form\n",
    "#y_train = utils.to_categorical(y_train) \n",
    "y_test = utils.to_categorical(y_test)\n",
    "#print(y_test.shape)\n",
    "\n",
    "lenet5 = load_model('Model/lenet5_mnist.h5')#load lenet5 model trained with mnist dataset \n",
    "lenet5.compile(optimizer=Adam(),loss='sparse_categorical_crossentropy',metrics=['accuracy']) \n"
   ]
  },
  {
   "cell_type": "code",
   "execution_count": 8,
   "metadata": {
    "scrolled": false
   },
   "outputs": [
    {
     "name": "stdout",
     "output_type": "stream",
     "text": [
      "\n",
      "Training：\n",
      "Epoch 1/3\n",
      "1003/1003 [==============================] - 37s 36ms/step - loss: 4.7544 - accuracy: 0.2282\n",
      "Epoch 2/3\n",
      "1003/1003 [==============================] - 37s 37ms/step - loss: 1.3406 - accuracy: 0.5116\n",
      "Epoch 3/3\n",
      "1003/1003 [==============================] - 36s 36ms/step - loss: 1.2060 - accuracy: 0.5572\n",
      "\n",
      "Evaluation：\n",
      "313/313 [==============================] - 1s 4ms/step - loss: 0.1756 - accuracy: 0.9436\n",
      "loss=  0.17559798061847687\n",
      "accuracy=  0.9435999989509583\n",
      "success!\n"
     ]
    }
   ],
   "source": [
    "beta = 0.11299\n",
    "neighbourlist,neighbourLabel = neighbour_image(x_train,y_train,beta)\n",
    "#print(len(neighbourlist))\n",
    "\n",
    "new_train = np.append(x_train,neighbourlist)\n",
    "new_train = new_train.reshape(-1,28,28,1)\n",
    "new_label = np.append(y_train,neighbourLabel)\n",
    "\n",
    "new_label = utils.to_categorical(new_label)\n",
    "\n",
    "new_model = build_LeNet5((28,28,1))\n",
    "define_batch_size = round(new_train.shape[0] * 0.001)  # batch_size\n",
    "print(\"\\nTraining：\")\n",
    "new_model.fit(new_train, new_label, batch_size= define_batch_size, epochs= 3)\n",
    "\n",
    "print(\"\\nEvaluation：\")\n",
    "final_loss, final_accuracy = new_model.evaluate(x_test, y_test)\n",
    "print(\"loss= \", final_loss)\n",
    "print(\"accuracy= \", final_accuracy)\n",
    "    \n",
    "        \n",
    "print(\"success!\")\n",
    "new_model.save('Model/lenet5_mnist_newdataset.h5')"
   ]
  },
  {
   "cell_type": "code",
   "execution_count": 7,
   "metadata": {},
   "outputs": [],
   "source": [
    "def neighbour_image(x_train,y_train,beta):\n",
    "    \n",
    "    mean = np.zeros(2)  \n",
    "    cov = np.eye(2)\n",
    "    neighbourlist = []\n",
    "    neighbourLabel = []\n",
    "    for i in range(50000):\n",
    "        count = 0\n",
    "        p = np.random.multivariate_normal(mean, cov,(28,28)) #sample formula\n",
    "        p = p.reshape(-1,28,28,1)\n",
    "        neighbour = p[0] + x_train[i]*255\n",
    "        neighbour /= 255\n",
    "        distance=np.linalg.norm(p[0]) \n",
    "        distance /= 255\n",
    "        \n",
    "        if (distance < beta or distance == beta):\n",
    "            pred = lenet5.predict(neighbour.reshape(-1, 28, 28, 1),batch_size=128).argmax(axis=1)\n",
    "            label = y_train[i]\n",
    "            \n",
    "            if(pred == label): \n",
    "                neighbour = (neighbour*255).astype(np.uint8).reshape(28,28,1)\n",
    "                \n",
    "                neighbourlist.append(neighbour)\n",
    "                neighbourLabel.append(label)\n",
    "                \n",
    "                \n",
    "            else:\n",
    "                i = i-1\n",
    "            \n",
    "    return neighbourlist,neighbourLabel"
   ]
  },
  {
   "cell_type": "code",
   "execution_count": 5,
   "metadata": {},
   "outputs": [],
   "source": [
    "def build_LeNet5(inputShape): #build model \n",
    "\n",
    "    lenet5 = Sequential()\n",
    "    lenet5.add(Conv2D(6, (5, 5), padding=\"valid\", input_shape=inputShape))\n",
    "    lenet5.add(Activation(\"relu\"))\n",
    "    lenet5.add(MaxPooling2D(pool_size=(2, 2), strides=(2, 2)))\n",
    "\n",
    "    lenet5.add(Conv2D(16, (5, 5), padding=\"valid\"))\n",
    "    lenet5.add(Activation(\"relu\"))\n",
    "    lenet5.add(MaxPooling2D(pool_size=(2, 2), strides=(2, 2)))\n",
    "\n",
    "    lenet5.add(Flatten())\n",
    "    lenet5.add(Dense(120, activation= \"relu\"))\n",
    "    lenet5.add(Dropout(0.5))\n",
    "    lenet5.add(Dense(84, activation= \"relu\"))\n",
    "    lenet5.add(Dropout(0.5))\n",
    "    \n",
    "\n",
    "    lenet5.add(Dense(10))\n",
    "    lenet5.add(Activation(\"softmax\"))\n",
    "    \n",
    "    lenet5.compile(optimizer=Adam(), loss=\"categorical_crossentropy\", metrics=[\"accuracy\"])\n",
    "    \n",
    "    return lenet5"
   ]
  },
  {
   "cell_type": "code",
   "execution_count": null,
   "metadata": {},
   "outputs": [],
   "source": []
  }
 ],
 "metadata": {
  "kernelspec": {
   "display_name": "Python 3",
   "language": "python",
   "name": "python3"
  },
  "language_info": {
   "codemirror_mode": {
    "name": "ipython",
    "version": 3
   },
   "file_extension": ".py",
   "mimetype": "text/x-python",
   "name": "python",
   "nbconvert_exporter": "python",
   "pygments_lexer": "ipython3",
   "version": "3.8.5"
  }
 },
 "nbformat": 4,
 "nbformat_minor": 4
}
