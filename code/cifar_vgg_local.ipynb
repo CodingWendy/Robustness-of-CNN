{
 "cells": [
  {
   "cell_type": "code",
   "execution_count": 5,
   "metadata": {},
   "outputs": [],
   "source": [
    "import numpy as np\n",
    "import matplotlib.pyplot as plt\n",
    "from keras import utils\n",
    "from keras.optimizers import Adam\n",
    "from tensorflow.keras.models import load_model\n",
    "from keras.datasets import cifar10\n",
    "from keras.datasets import cifar100"
   ]
  },
  {
   "cell_type": "code",
   "execution_count": 6,
   "metadata": {},
   "outputs": [],
   "source": [
    "dataset1 = cifar10\n",
    "(x_train1, y_train1), (x_test1, y_test1) = dataset1.load_data() #original size train(xxx, 28, 28),test(xxx)\n",
    "\n",
    "img = x_test1[0] \n",
    "#plt.imshow(img)\n",
    "#translate the data to image\n",
    "x_train1 = x_train1.astype(\"float32\")\n",
    "x_test1 = x_test1.astype(\"float32\")\n",
    "\n",
    "\n",
    "#normalization\n",
    "x_train1 /= 255\n",
    "x_test1 /= 255\n",
    "\n",
    "vgg_cifar10 = load_model('Model/vgg_cifar10.h5')#load lenet5 model trained with mnist dataset \n",
    "vgg_cifar10.compile(optimizer=Adam(),loss='sparse_categorical_crossentropy',metrics=['accuracy']) "
   ]
  },
  {
   "cell_type": "code",
   "execution_count": 8,
   "metadata": {},
   "outputs": [
    {
     "name": "stdout",
     "output_type": "stream",
     "text": [
      "Sampled 734 images, 134 outside beta, 600 inside beta\n",
      "600 images inside beta have the same label, local robustness formula satisfied\n",
      "max safe distance: 0.04079\n"
     ]
    },
    {
     "data": {
      "text/plain": [
       "0.04079"
      ]
     },
     "execution_count": 8,
     "metadata": {},
     "output_type": "execute_result"
    }
   ],
   "source": [
    "beta = 0.04079\n",
    "N = 600\n",
    "sample(x_test1[0],y_test1[0],vgg_cifar10,N, beta)"
   ]
  },
  {
   "cell_type": "code",
   "execution_count": 15,
   "metadata": {},
   "outputs": [
    {
     "name": "stdout",
     "output_type": "stream",
     "text": [
      "671 images inside beta have the same label, local robustness formula satisfied\n",
      "max safe distance: 0.0406\n"
     ]
    },
    {
     "data": {
      "text/plain": [
       "0.0406"
      ]
     },
     "execution_count": 15,
     "metadata": {},
     "output_type": "execute_result"
    }
   ],
   "source": [
    "beta = 0.0406\n",
    "N = 671\n",
    "sample(x_test1[0],y_test1[0],vgg_cifar10,N, beta)"
   ]
  },
  {
   "cell_type": "code",
   "execution_count": 16,
   "metadata": {},
   "outputs": [
    {
     "name": "stdout",
     "output_type": "stream",
     "text": [
      "783 images inside beta have the same label, local robustness formula satisfied\n",
      "max safe distance: 0.0375\n"
     ]
    },
    {
     "data": {
      "text/plain": [
       "0.0375"
      ]
     },
     "execution_count": 16,
     "metadata": {},
     "output_type": "execute_result"
    }
   ],
   "source": [
    "beta = 0.0375\n",
    "N = 783\n",
    "sample(x_test2[0],y_test2[0],vgg_cifar100,N, beta)"
   ]
  },
  {
   "cell_type": "code",
   "execution_count": 7,
   "metadata": {},
   "outputs": [],
   "source": [
    "dataset2 = cifar100\n",
    "(x_train2, y_train2), (x_test2, y_test2) = dataset2.load_data() #original size train(xxx, 28, 28),test(xxx)\n",
    "\n",
    "img = x_test2[0]        \n",
    "#translate the data to image\n",
    "x_train2 = x_train2.astype(\"float32\")\n",
    "x_test2 = x_test2.astype(\"float32\")\n",
    "\n",
    "\n",
    "#normalization\n",
    "x_train2 /= 255\n",
    "x_test2 /= 255\n",
    "\n",
    "vgg_cifar100 = load_model('Model/vgg_cifar100.h5')#load lenet5 model trained with mnist dataset \n",
    "vgg_cifar100.compile(optimizer=Adam(),loss='sparse_categorical_crossentropy',metrics=['accuracy']) \n"
   ]
  },
  {
   "cell_type": "code",
   "execution_count": 11,
   "metadata": {},
   "outputs": [
    {
     "name": "stdout",
     "output_type": "stream",
     "text": [
      "Beta is reduced by 0.0001, the new beta is 0.0299\n",
      "Beta is reduced by 0.0001, the new beta is 0.0298\n",
      "Beta is reduced by 0.0001, the new beta is 0.0297\n",
      "Beta is reduced by 0.0001, the new beta is 0.0296\n",
      "Beta is reduced by 0.0001, the new beta is 0.029500000000000002\n",
      "Beta is reduced by 0.0001, the new beta is 0.029400000000000003\n",
      "Beta is reduced by 0.0001, the new beta is 0.029300000000000003\n",
      "Beta is reduced by 0.0001, the new beta is 0.029200000000000004\n",
      "Beta is reduced by 0.0001, the new beta is 0.029100000000000004\n",
      "Beta is reduced by 0.0001, the new beta is 0.029000000000000005\n",
      "Beta is reduced by 0.0001, the new beta is 0.028900000000000006\n",
      "Beta is reduced by 0.0001, the new beta is 0.028800000000000006\n",
      "Beta is reduced by 0.0001, the new beta is 0.028700000000000007\n",
      "Beta is reduced by 0.0001, the new beta is 0.028600000000000007\n",
      "Beta is reduced by 0.0001, the new beta is 0.028500000000000008\n",
      "Beta is reduced by 0.0001, the new beta is 0.02840000000000001\n",
      "Beta is reduced by 0.0001, the new beta is 0.02830000000000001\n",
      "Beta is reduced by 0.0001, the new beta is 0.02820000000000001\n",
      "Sampled 1425 images, 825 outside beta, 600 inside beta\n",
      "600 images inside beta have the same label, local robustness formula satisfied\n",
      "max safe distance: 0.02820000000000001\n"
     ]
    },
    {
     "data": {
      "text/plain": [
       "0.02820000000000001"
      ]
     },
     "execution_count": 11,
     "metadata": {},
     "output_type": "execute_result"
    }
   ],
   "source": [
    "beta2 = 0.03\n",
    "N = 600\n",
    "sample(x_test2[0],y_test2[0],vgg_cifar100,N,beta2)"
   ]
  },
  {
   "cell_type": "code",
   "execution_count": 1,
   "metadata": {},
   "outputs": [],
   "source": [
    "def sample(x_test,y_test,model,N,beta):\n",
    "    \n",
    "    max_distance = 0  #max safe distance\n",
    "    count = 0\n",
    "    count2 = 0\n",
    "    neighbour_list=[]\n",
    "    mean = np.zeros(3)  \n",
    "    cov = np.eye(3)\n",
    "    label = y_test\n",
    "    \n",
    "    while True:\n",
    "        count2+=1\n",
    "        p = np.random.multivariate_normal(mean, cov,(32,32)) #sample formula\n",
    "        neighbour = p + x_test*255\n",
    "        neighbour /= 255\n",
    "        neighbour=neighbour.reshape(1,32,32,3)\n",
    "        distance=np.linalg.norm(p[0]) \n",
    "        distance /= 255\n",
    "        #print(distance)\n",
    "        if (distance < beta or distance == beta):\n",
    "            \n",
    "            output = model.predict(neighbour,batch_size=128)\n",
    "            proba = softmax(output)\n",
    "            pred = np.argmax(proba)\n",
    "            if(pred == label): \n",
    "                count+=1  #correct prediction\n",
    "            else:  #if there are some iamges inside beta cannot have the same label, beta will be decreased\n",
    "                beta = beta-0.0001\n",
    "                print(\"Beta is reduced by 0.0001, the new beta is\",beta)   \n",
    "            \n",
    "        if(count==N):  \n",
    "            #print(\"Sampled %s images, %s outside beta, %s inside beta\" % (count2, count2-count,count))\n",
    "            print(\"%s images inside beta have the same label, local robustness formula satisfied\" %N)\n",
    "            break\n",
    "\n",
    "  \n",
    "    print(\"max safe distance:\",beta)            \n",
    "\n",
    "    return beta"
   ]
  },
  {
   "cell_type": "code",
   "execution_count": 8,
   "metadata": {},
   "outputs": [],
   "source": [
    "def softmax(x):\n",
    "    e_x = np.exp(x-np.max(x))\n",
    "    return e_x / e_x.sum()"
   ]
  },
  {
   "cell_type": "code",
   "execution_count": 12,
   "metadata": {},
   "outputs": [
    {
     "name": "stdout",
     "output_type": "stream",
     "text": [
      "671 images inside beta have the same label, local robustness formula satisfied\n",
      "max safe distance: 0.0265\n"
     ]
    },
    {
     "data": {
      "text/plain": [
       "0.0265"
      ]
     },
     "execution_count": 12,
     "metadata": {},
     "output_type": "execute_result"
    }
   ],
   "source": [
    "beta = 0.0265\n",
    "N = 671\n",
    "sample(x_test2[0],y_test2[0],vgg_cifar100,N, beta)"
   ]
  },
  {
   "cell_type": "code",
   "execution_count": 13,
   "metadata": {},
   "outputs": [
    {
     "name": "stdout",
     "output_type": "stream",
     "text": [
      "783 images inside beta have the same label, local robustness formula satisfied\n",
      "max safe distance: 0.0225\n"
     ]
    },
    {
     "data": {
      "text/plain": [
       "0.0225"
      ]
     },
     "execution_count": 13,
     "metadata": {},
     "output_type": "execute_result"
    }
   ],
   "source": [
    "beta = 0.0225\n",
    "N = 783\n",
    "sample(x_test2[0],y_test2[0],vgg_cifar100,N, beta)"
   ]
  },
  {
   "cell_type": "code",
   "execution_count": null,
   "metadata": {},
   "outputs": [],
   "source": []
  }
 ],
 "metadata": {
  "kernelspec": {
   "display_name": "Python 3",
   "language": "python",
   "name": "python3"
  },
  "language_info": {
   "codemirror_mode": {
    "name": "ipython",
    "version": 3
   },
   "file_extension": ".py",
   "mimetype": "text/x-python",
   "name": "python",
   "nbconvert_exporter": "python",
   "pygments_lexer": "ipython3",
   "version": "3.8.5"
  }
 },
 "nbformat": 4,
 "nbformat_minor": 4
}
