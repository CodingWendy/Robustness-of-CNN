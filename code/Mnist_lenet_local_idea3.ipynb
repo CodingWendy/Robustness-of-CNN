{
 "cells": [
  {
   "cell_type": "code",
   "execution_count": 11,
   "metadata": {},
   "outputs": [],
   "source": [
    "from keras.datasets import mnist \n",
    "import matplotlib.pyplot as plt \n",
    "from keras.optimizers import Adam \n",
    "from keras import utils \n",
    "import numpy as np\n",
    "import matplotlib.pyplot as plt \n",
    "from tensorflow.keras.models import load_model \n",
    "\n",
    "dataset = mnist\n",
    "(x_train, y_train), (x_test, y_test) = dataset.load_data() #translate the data to image \n",
    "\n",
    "x_test = x_test.reshape(x_test.shape[0], -1).astype(\"float64\")\n",
    "\n",
    "#normalization \n",
    "x_test /= 255\n",
    "\n",
    "x_test = x_test.reshape(-1, 28, 28, 1)\n",
    "\n",
    "lenet5 = load_model('Model/lenet5_mnist.h5')#load lenet5 model trained with mnist dataset \n",
    "lenet5.compile(optimizer=Adam(),loss='sparse_categorical_crossentropy',metrics=['accuracy']) \n",
    "\n",
    "def sample(x_test,y_test,N,beta):\n",
    "    \n",
    "    max_distance = 0  #max safe distance\n",
    "    count = 0\n",
    "    count2 = 0\n",
    "    neighbour_list=[]\n",
    "    mean = np.zeros(2)  \n",
    "    cov = np.eye(2)\n",
    "    label = y_test\n",
    "    \n",
    "    while True:\n",
    "        count2+=1\n",
    "        p = np.random.multivariate_normal(mean, cov,(28,28)) #sample formula\n",
    "        p = p.reshape(-1,28,28,1) \n",
    "        neighbour = p[0] + x_test*255\n",
    "        neighbour /= 255\n",
    "        distance=np.linalg.norm(p[0]) \n",
    "        distance /= 255\n",
    "        #print(distance)\n",
    "        if (distance < beta or distance == beta):\n",
    "            #print(distance)\n",
    "            output = lenet5.predict(neighbour.reshape(-1, 28, 28, 1),batch_size=128)[0]\n",
    "            proba = softmax(output)\n",
    "            pred = np.argmax(proba)\n",
    "            neighbour = (neighbour*255).astype(np.uint8).reshape(28,28)\n",
    "            if(pred == label): \n",
    "                neighbour_list.append((proba[label],neighbour))\n",
    "                count+=1  #correct prediction\n",
    "            else:  #if there are some iamges inside beta cannot have the same label, beta will be decreased\n",
    "                beta = beta-0.0001\n",
    "                neighbour_list.append((proba[label],neighbour))\n",
    "                print(\"Beta is reduced by 0.0001, the new beta is\",beta)   \n",
    "            \n",
    "        if(count==N):  \n",
    "            print(\"Sampled %s images inside beta\" % count)\n",
    "            print(\"%s images inside beta have the same label, local robustness formula satisfied\" %N)\n",
    "            break\n",
    "\n",
    "    return beta\n",
    "\n",
    "def softmax(x):\n",
    "    e_x = np.exp(x-np.max(x))\n",
    "    return e_x / e_x.sum()"
   ]
  },
  {
   "cell_type": "code",
   "execution_count": 14,
   "metadata": {},
   "outputs": [
    {
     "name": "stdout",
     "output_type": "stream",
     "text": [
      "Sampled 783 images inside beta\n",
      "783 images inside beta have the same label, local robustness formula satisfied\n"
     ]
    },
    {
     "data": {
      "text/plain": [
       "0.0987"
      ]
     },
     "execution_count": 14,
     "metadata": {},
     "output_type": "execute_result"
    }
   ],
   "source": [
    "beta = 0.0987\n",
    "N = 783\n",
    "sample(x_test[1],y_test[1],N, beta)"
   ]
  },
  {
   "cell_type": "code",
   "execution_count": 13,
   "metadata": {},
   "outputs": [
    {
     "name": "stdout",
     "output_type": "stream",
     "text": [
      "Sampled 671 images inside beta\n",
      "671 images inside beta have the same label, local robustness formula satisfied\n"
     ]
    },
    {
     "data": {
      "text/plain": [
       "0.1101"
      ]
     },
     "execution_count": 13,
     "metadata": {},
     "output_type": "execute_result"
    }
   ],
   "source": [
    "beta = 0.1101\n",
    "N = 671\n",
    "sample(x_test[1],y_test[1],N, beta)"
   ]
  },
  {
   "cell_type": "code",
   "execution_count": null,
   "metadata": {},
   "outputs": [],
   "source": []
  }
 ],
 "metadata": {
  "kernelspec": {
   "display_name": "Python 3",
   "language": "python",
   "name": "python3"
  },
  "language_info": {
   "codemirror_mode": {
    "name": "ipython",
    "version": 3
   },
   "file_extension": ".py",
   "mimetype": "text/x-python",
   "name": "python",
   "nbconvert_exporter": "python",
   "pygments_lexer": "ipython3",
   "version": "3.8.5"
  }
 },
 "nbformat": 4,
 "nbformat_minor": 4
}
